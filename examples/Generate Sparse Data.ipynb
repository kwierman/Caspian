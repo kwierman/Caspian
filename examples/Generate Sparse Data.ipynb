{
 "cells": [
  {
   "cell_type": "code",
   "execution_count": 10,
   "metadata": {},
   "outputs": [],
   "source": [
    "from caspian.synthesis.bag import sparse_bag\n",
    "from caspian.backend.columnar import infer_schema_from_bag, wide_records_to_long_records\n",
    "from dask.distributed import Client\n",
    "import dask"
   ]
  },
  {
   "cell_type": "code",
   "execution_count": 2,
   "metadata": {},
   "outputs": [],
   "source": [
    "client = Client()"
   ]
  },
  {
   "cell_type": "code",
   "execution_count": 3,
   "metadata": {},
   "outputs": [],
   "source": [
    "bag = sparse_bag(1000, 100)\n"
   ]
  },
  {
   "cell_type": "code",
   "execution_count": 4,
   "metadata": {},
   "outputs": [
    {
     "data": {
      "text/plain": [
       "dask.bag<from_sequence, npartitions=250>"
      ]
     },
     "execution_count": 4,
     "metadata": {},
     "output_type": "execute_result"
    }
   ],
   "source": [
    "bag"
   ]
  },
  {
   "cell_type": "code",
   "execution_count": 5,
   "metadata": {},
   "outputs": [],
   "source": [
    "schema = infer_schema_from_bag(bag, index_col='idx')"
   ]
  },
  {
   "cell_type": "code",
   "execution_count": 8,
   "metadata": {},
   "outputs": [],
   "source": [
    "def filter_records_to_index_and_col_name(record, col_name, index_name):\n",
    "    if col_name not in record:\n",
    "        return None\n",
    "    else:\n",
    "        return {index_name: record[index_name], col_name:record[col_name]}\n",
    "\n",
    "    \n",
    "def write_bag_to_col(bag, col_name, col_type, index_name, location):\n",
    "\n",
    "    bag = bag.starmap()"
   ]
  },
  {
   "cell_type": "code",
   "execution_count": 15,
   "metadata": {},
   "outputs": [],
   "source": [
    "mvalues = [(bag, i, j, 'idx', '/tmp/dask_test/') for i,j in schema.items()]"
   ]
  },
  {
   "cell_type": "code",
   "execution_count": 14,
   "metadata": {},
   "outputs": [
    {
     "data": {
      "text/plain": [
       "{'col_7': float,\n",
       " 'col_53': float,\n",
       " 'col_2': float,\n",
       " 'col_31': float,\n",
       " 'col_78': float,\n",
       " 'col_64': float,\n",
       " 'col_97': float,\n",
       " 'col_61': float,\n",
       " 'col_33': float,\n",
       " 'col_70': float,\n",
       " 'col_79': float,\n",
       " 'col_81': float,\n",
       " 'col_58': float,\n",
       " 'col_23': float,\n",
       " 'col_98': float,\n",
       " 'col_69': float,\n",
       " 'col_74': float,\n",
       " 'col_16': float,\n",
       " 'col_56': float,\n",
       " 'col_72': float,\n",
       " 'col_86': float,\n",
       " 'col_60': float,\n",
       " 'col_75': float,\n",
       " 'col_66': float,\n",
       " 'col_96': float,\n",
       " 'col_46': float,\n",
       " 'col_95': float,\n",
       " 'col_87': float,\n",
       " 'col_49': float,\n",
       " 'col_17': float,\n",
       " 'col_39': float,\n",
       " 'col_67': float,\n",
       " 'col_44': float,\n",
       " 'col_55': float,\n",
       " 'col_89': float,\n",
       " 'col_3': float,\n",
       " 'col_34': float,\n",
       " 'col_48': float,\n",
       " 'col_71': float,\n",
       " 'col_88': float,\n",
       " 'col_6': float,\n",
       " 'col_99': float,\n",
       " 'col_82': float,\n",
       " 'col_20': float,\n",
       " 'col_11': float,\n",
       " 'col_93': float,\n",
       " 'col_4': float,\n",
       " 'col_0': float,\n",
       " 'col_27': float,\n",
       " 'col_29': float,\n",
       " 'col_52': float,\n",
       " 'col_13': float,\n",
       " 'col_51': float,\n",
       " 'col_26': float,\n",
       " 'col_50': float,\n",
       " 'col_12': float,\n",
       " 'col_92': float,\n",
       " 'col_94': float,\n",
       " 'col_9': float,\n",
       " 'col_91': float,\n",
       " 'col_90': float,\n",
       " 'col_40': float,\n",
       " 'col_1': float,\n",
       " 'col_21': float,\n",
       " 'col_63': float,\n",
       " 'col_43': float,\n",
       " 'col_35': float,\n",
       " 'col_84': float,\n",
       " 'col_32': float,\n",
       " 'col_54': float,\n",
       " 'col_83': float,\n",
       " 'col_65': float,\n",
       " 'col_15': float,\n",
       " 'col_57': float,\n",
       " 'col_85': float,\n",
       " 'col_77': float,\n",
       " 'col_28': float,\n",
       " 'col_73': float,\n",
       " 'col_62': float,\n",
       " 'col_25': float,\n",
       " 'col_14': float,\n",
       " 'col_41': float,\n",
       " 'col_68': float,\n",
       " 'col_5': float,\n",
       " 'col_59': float,\n",
       " 'col_24': float,\n",
       " 'col_8': float,\n",
       " 'col_22': float,\n",
       " 'col_30': float,\n",
       " 'col_10': float,\n",
       " 'col_37': float,\n",
       " 'col_18': float,\n",
       " 'col_45': float,\n",
       " 'col_76': float,\n",
       " 'col_38': float,\n",
       " 'col_42': float,\n",
       " 'col_47': float,\n",
       " 'col_19': float,\n",
       " 'col_36': float,\n",
       " 'col_80': float}"
      ]
     },
     "execution_count": 14,
     "metadata": {},
     "output_type": "execute_result"
    }
   ],
   "source": []
  },
  {
   "cell_type": "code",
   "execution_count": null,
   "metadata": {},
   "outputs": [],
   "source": []
  }
 ],
 "metadata": {
  "kernelspec": {
   "display_name": "caspian",
   "language": "python",
   "name": "python3"
  },
  "language_info": {
   "codemirror_mode": {
    "name": "ipython",
    "version": 3
   },
   "file_extension": ".py",
   "mimetype": "text/x-python",
   "name": "python",
   "nbconvert_exporter": "python",
   "pygments_lexer": "ipython3",
   "version": "3.11.9"
  }
 },
 "nbformat": 4,
 "nbformat_minor": 2
}
